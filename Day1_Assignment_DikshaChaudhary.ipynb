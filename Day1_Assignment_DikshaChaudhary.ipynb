{
 "cells": [
  {
   "cell_type": "markdown",
   "metadata": {},
   "source": [
    "## Question 1\n",
    "### Take a number as input and print the sum and product of all numbers upto the given number starting from "
   ]
  },
  {
   "cell_type": "code",
   "execution_count": 45,
   "metadata": {},
   "outputs": [
    {
     "name": "stdout",
     "output_type": "stream",
     "text": [
      "Sum of the digits:  10\n",
      "Product of the digits:  24\n"
     ]
    }
   ],
   "source": [
    "a = int(input('Enter a number: '))\n",
    "sum = 0\n",
    "prod = 1\n",
    "for i in range(1,(a+1)):\n",
    "    sum = sum + i\n",
    "    prod = prod*i\n",
    "print('Sum of the digits: ',sum)\n",
    "print('Product of the digits: ',prod)    \n"
   ]
  },
  {
   "cell_type": "markdown",
   "metadata": {},
   "source": [
    "## Question 2\n",
    "### Take a string as input and print the number of vowels in the string"
   ]
  },
  {
   "cell_type": "code",
   "execution_count": 46,
   "metadata": {},
   "outputs": [
    {
     "name": "stdout",
     "output_type": "stream",
     "text": [
      "No. of times vowels came in string:  2\n"
     ]
    }
   ],
   "source": [
    "a = input('Enter a string: ')\n",
    "length = len(a)\n",
    "count = 0\n",
    "for i in range(length):\n",
    "    if(a[i] == 'a'or a[i] == 'e'or a[i] == 'i'or a[i] == 'o'or a[i] == 'u'):\n",
    "        count= count+1    \n",
    "print('No. of times vowels came in string: ',count)    \n"
   ]
  },
  {
   "cell_type": "markdown",
   "metadata": {},
   "source": [
    "## Question 3\n",
    "### Print a pyramid shape with +"
   ]
  },
  {
   "cell_type": "code",
   "execution_count": 47,
   "metadata": {},
   "outputs": [
    {
     "name": "stdout",
     "output_type": "stream",
     "text": [
      "The pattern is: \n",
      "          +\n",
      "         +++\n",
      "        +++++\n",
      "       +++++++\n",
      "      +++++++++\n",
      "     +++++++++++\n",
      "    +++++++++++++\n",
      "   +++++++++++++++\n",
      "  +++++++++++++++++\n",
      " +++++++++++++++++++\n"
     ]
    }
   ],
   "source": [
    "print('The pattern is: ')\n",
    "for i in range(10):\n",
    "    for j in range(10-i):\n",
    "        print(' ', end='')\n",
    "    for k in range(i*2+1):\n",
    "        print('+',end='')\n",
    "    \n",
    "    print()        \n"
   ]
  },
  {
   "cell_type": "markdown",
   "metadata": {},
   "source": [
    "## Question 4\n",
    "### Given a list of sorted numbers, find the minimum difference between any two numbers in the list"
   ]
  },
  {
   "cell_type": "code",
   "execution_count": 48,
   "metadata": {},
   "outputs": [
    {
     "name": "stdout",
     "output_type": "stream",
     "text": [
      "The minimum difference between any two numbers:  5\n"
     ]
    }
   ],
   "source": [
    "l = [5, 10, 17, 22, 31, 36, 50]\n",
    "min_diff=100\n",
    "for i in range(len(l)-1):\n",
    "    diff= l[i+1]-l[i]\n",
    "    if diff< min_diff:\n",
    "        min_diff=diff\n",
    "print('The minimum difference between any two numbers: ',min_diff)       \n"
   ]
  },
  {
   "cell_type": "markdown",
   "metadata": {},
   "source": [
    "## Question 5\n",
    "### Find the single digit sum of a number taken as input"
   ]
  },
  {
   "cell_type": "code",
   "execution_count": 49,
   "metadata": {},
   "outputs": [
    {
     "name": "stdout",
     "output_type": "stream",
     "text": [
      "Sngle digit sum of the number:  5\n"
     ]
    }
   ],
   "source": [
    "a = int(input('Enter a number: '))\n",
    "for j in range(len(str(a))):\n",
    "    sum=0\n",
    "    for i in str(a):\n",
    "        sum = int(i)+sum\n",
    "    a= sum    \n",
    "print('Sngle digit sum of the number: ',sum)    \n",
    "\n",
    "        \n"
   ]
  }
 ],
 "metadata": {
  "kernelspec": {
   "display_name": "Python 3",
   "language": "python",
   "name": "python3"
  },
  "language_info": {
   "codemirror_mode": {
    "name": "ipython",
    "version": 3
   },
   "file_extension": ".py",
   "mimetype": "text/x-python",
   "name": "python",
   "nbconvert_exporter": "python",
   "pygments_lexer": "ipython3",
   "version": "3.9.6"
  }
 },
 "nbformat": 4,
 "nbformat_minor": 2
}
