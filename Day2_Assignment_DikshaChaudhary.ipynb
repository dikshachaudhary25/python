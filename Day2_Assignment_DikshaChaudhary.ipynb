{
 "cells": [
  {
   "cell_type": "markdown",
   "metadata": {},
   "source": [
    "## Question 1\n",
    "### Given a string with ',' and '?' in it, return a string with the two replaced - use the replace() method"
   ]
  },
  {
   "cell_type": "code",
   "execution_count": 17,
   "metadata": {},
   "outputs": [
    {
     "name": "stdout",
     "output_type": "stream",
     "text": [
      "Hello there? how are you,\n"
     ]
    }
   ],
   "source": [
    "s = 'Hello there, how are you?'\n",
    "s= s.replace(',','temp')\n",
    "s= s.replace('?',',')\n",
    "s= s.replace('temp','?')\n",
    "print(s)"
   ]
  },
  {
   "cell_type": "markdown",
   "metadata": {},
   "source": [
    "## Question 2\n",
    "### Find the maximum number of words that appear in a single sentence from a list of sentences"
   ]
  },
  {
   "cell_type": "code",
   "execution_count": 28,
   "metadata": {},
   "outputs": [
    {
     "name": "stdout",
     "output_type": "stream",
     "text": [
      "Maximum number of words in a sentence: 6\n"
     ]
    }
   ],
   "source": [
    "sentences = [\"alice and bob love coding\", \"i think so too\", \"this is great thanks very much\"]\n",
    "count = 0\n",
    "curr_count=0\n",
    "for i in sentences:\n",
    "    a= i.split(' ')\n",
    "    curr_count=0\n",
    "    for j in a:\n",
    "        curr_count+=1\n",
    "        if(curr_count>count):\n",
    "            count=curr_count\n",
    "           \n",
    "print(\"Maximum number of words in a sentence:\", count)       "
   ]
  },
  {
   "cell_type": "markdown",
   "metadata": {},
   "source": [
    "## Question 3\n",
    "### Split a given string based on vowels"
   ]
  },
  {
   "cell_type": "code",
   "execution_count": null,
   "metadata": {},
   "outputs": [
    {
     "data": {
      "text/plain": [
       "['j', 'sts', 'm', 'r', 'nd', 'mw', 'rd']"
      ]
     },
     "execution_count": 38,
     "metadata": {},
     "output_type": "execute_result"
    }
   ],
   "source": [
    "s = 'justsomerandomword'\n",
    "s= s.replace('e','a')\n",
    "s= s.replace('i','a')\n",
    "s= s.replace('o','a')\n",
    "s= s.replace('u','a')\n",
    "s.split('a')"
   ]
  },
  {
   "cell_type": "markdown",
   "metadata": {},
   "source": [
    "## Question 4\n",
    "### Check if the given string is a pangram - i.e. it contains all the letters of the alphabet"
   ]
  },
  {
   "cell_type": "code",
   "execution_count": 41,
   "metadata": {},
   "outputs": [
    {
     "name": "stdout",
     "output_type": "stream",
     "text": [
      "s1 is pangram\n",
      "s2 is pangram\n",
      "s3 is not a pangram\n"
     ]
    }
   ],
   "source": [
    "s1 = 'Brown jars; prevented the mixture from freezing too quickly!'\n",
    "s2 = 'The quick brown fox, jumps over a lazy dog'\n",
    "s3 = 'Some other sentence'\n",
    "alphabets = 'abcdefghijklmnopqrstuvwxyz'\n",
    "a= s1.lower()\n",
    "b= s2.lower()\n",
    "c= s3.lower()\n",
    "for i in alphabets:\n",
    "    if i not in a:\n",
    "        print('s1 is not a pangram')\n",
    "        break  \n",
    "else:\n",
    "        print('s1 is pangram')  \n",
    "for j in alphabets:\n",
    "    if j not in b:\n",
    "        print('s2 is not a pangram')\n",
    "        break  \n",
    "else:\n",
    "        print('s2 is pangram')    \n",
    "for k in alphabets:\n",
    "    if k not in c:\n",
    "        print('s3 is not a pangram')\n",
    "        break  \n",
    "else:\n",
    "        print('s3 is pangram')                \n",
    "        \n"
   ]
  },
  {
   "cell_type": "markdown",
   "metadata": {},
   "source": [
    "## Question 5\n",
    "### Given a string containing parantheses, find out the maximum number of nested parantheses"
   ]
  },
  {
   "cell_type": "code",
   "execution_count": 42,
   "metadata": {},
   "outputs": [
    {
     "name": "stdout",
     "output_type": "stream",
     "text": [
      "Maximum nested parentheses: 3\n"
     ]
    }
   ],
   "source": [
    "Input = '(1+(2*3)+((8)/4))+1'\n",
    "level = 0\n",
    "max_level = 0\n",
    "for i in Input:\n",
    "    if i == '(':\n",
    "        level += 1\n",
    "        if level > max_level:\n",
    "            max_level = level\n",
    "    elif i == ')':\n",
    "        level -= 1\n",
    "print(\"Maximum nested parentheses:\", max_level)"
   ]
  },
  {
   "cell_type": "markdown",
   "metadata": {},
   "source": [
    "## Question 6\n",
    "### Take a number as input and find out its single digit sum"
   ]
  },
  {
   "cell_type": "code",
   "execution_count": 45,
   "metadata": {},
   "outputs": [
    {
     "name": "stdout",
     "output_type": "stream",
     "text": [
      "Single digit sum of the number:  5\n"
     ]
    }
   ],
   "source": [
    "a = int(input('Enter a number: '))\n",
    "for j in range(len(str(a))):\n",
    "    sum=0\n",
    "    for i in str(a):\n",
    "        sum = int(i)+sum\n",
    "    a= sum    \n",
    "print('Single digit sum of the number: ',sum)"
   ]
  },
  {
   "cell_type": "markdown",
   "metadata": {},
   "source": [
    "## Question 7\n",
    "### Take a compressed string and return its uncompressed form"
   ]
  },
  {
   "cell_type": "code",
   "execution_count": null,
   "metadata": {},
   "outputs": [
    {
     "name": "stdout",
     "output_type": "stream",
     "text": [
      "abbccc\n"
     ]
    }
   ],
   "source": [
    "s = 'a2[b]3[c]'\n",
    "res = ''\n",
    "skip = 0  \n",
    "for i in range(len(s)):\n",
    "    if skip > 0:\n",
    "        skip -= 1\n",
    "        continue\n",
    "    if s[i].isdigit():\n",
    "        num = int(s[i])\n",
    "        res += s[i + 2] * num\n",
    "        skip = 3  \n",
    "    elif s[i].isalpha():\n",
    "        res += s[i]\n",
    "print(res)\n"
   ]
  }
 ],
 "metadata": {
  "kernelspec": {
   "display_name": "Python 3",
   "language": "python",
   "name": "python3"
  },
  "language_info": {
   "codemirror_mode": {
    "name": "ipython",
    "version": 3
   },
   "file_extension": ".py",
   "mimetype": "text/x-python",
   "name": "python",
   "nbconvert_exporter": "python",
   "pygments_lexer": "ipython3",
   "version": "3.9.6"
  }
 },
 "nbformat": 4,
 "nbformat_minor": 2
}
